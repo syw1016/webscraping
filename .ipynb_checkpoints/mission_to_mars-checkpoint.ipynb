{
 "cells": [
  {
   "cell_type": "code",
   "execution_count": 5,
   "metadata": {},
   "outputs": [],
   "source": [
    "import time\n",
    "from splinter import Browser\n",
    "from bs4 import BeautifulSoup\n",
    "from selenium import webdriver"
   ]
  },
  {
   "cell_type": "code",
   "execution_count": 22,
   "metadata": {},
   "outputs": [],
   "source": [
    "def init_browser():    \n",
    "    executable_path = {\"executable_path\": \"chromedriver\"}\n",
    "    return Browser(\"chrome\", **executable_path, headless=False)"
   ]
  },
  {
   "cell_type": "code",
   "execution_count": 25,
   "metadata": {},
   "outputs": [],
   "source": [
    "def scrapeNews():\n",
    "    browser = init_browser()\n",
    "    \n",
    "    # visit unsplash.com\n",
    "    nasa = \"https://mars.nasa.gov/news/\"\n",
    "    browser.visit(nasa)\n",
    "\n",
    "    html = browser.html\n",
    "    soup = BeautifulSoup(html, \"html.parser\")\n",
    "    \n",
    "    latest_news = soup.find(\"li\", class_=\"slide\")\n",
    "    \n",
    "    news_title = latest_news.find(\"div\", class_=\"content_title\").a.text\n",
    "    news_p = latest_news.find(\"div\", class_=\"article_teaser_body\").text\n",
    "    \n",
    "    return news_title, news_p"
   ]
  },
  {
   "cell_type": "code",
   "execution_count": 28,
   "metadata": {},
   "outputs": [],
   "source": [
    "def scrapeImage():\n",
    "    browser = init_browser()\n",
    "    \n",
    "    mars = \"https://www.jpl.nasa.gov/spaceimages/?search=&category=Mars\"    \n",
    "    browser.visit(mars)\n",
    "    \n",
    "    html = browser.html\n",
    "    soup = BeautifulSoup(html, \"html.parser\")\n",
    "       \n",
    "    button = browser.find_by_id(\"full_image\")\n",
    "    button.click()\n",
    "    time.sleep(2)\n",
    "    \n",
    "    button = browser.find_by_class(\"buttons\").find_by_class(\"button\")\n",
    "    button.click()\n",
    "    time.sleep(2)\n",
    "    \n",
    "    \n",
    "    \n",
    "    #     browser.fill(\"searchKeyword\", target)\n",
    "    \n",
    "    featured_image_url = \"\"\n",
    "    return featured_image_url"
   ]
  },
  {
   "cell_type": "code",
   "execution_count": 8,
   "metadata": {},
   "outputs": [],
   "source": [
    "def build_report(surf_report):\n",
    "    final_report = \"\"\n",
    "    for p in surf_report:\n",
    "        final_report += \" \" + p.get_text()\n",
    "        print(final_report)\n",
    "    return final_report"
   ]
  },
  {
   "cell_type": "code",
   "execution_count": null,
   "metadata": {},
   "outputs": [],
   "source": []
  },
  {
   "cell_type": "code",
   "execution_count": null,
   "metadata": {},
   "outputs": [],
   "source": []
  },
  {
   "cell_type": "code",
   "execution_count": null,
   "metadata": {},
   "outputs": [],
   "source": []
  }
 ],
 "metadata": {
  "kernelspec": {
   "display_name": "Python 3",
   "language": "python",
   "name": "python3"
  },
  "language_info": {
   "codemirror_mode": {
    "name": "ipython",
    "version": 3
   },
   "file_extension": ".py",
   "mimetype": "text/x-python",
   "name": "python",
   "nbconvert_exporter": "python",
   "pygments_lexer": "ipython3",
   "version": "3.6.4"
  }
 },
 "nbformat": 4,
 "nbformat_minor": 2
}
