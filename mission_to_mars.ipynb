{
 "cells": [
  {
   "cell_type": "code",
   "execution_count": 1,
   "metadata": {},
   "outputs": [],
   "source": [
    "import time\n",
    "from splinter import Browser\n",
    "from bs4 import BeautifulSoup\n",
    "from selenium import webdriver\n",
    "import pandas as pd"
   ]
  },
  {
   "cell_type": "code",
   "execution_count": 2,
   "metadata": {},
   "outputs": [],
   "source": [
    "def init_browser():    \n",
    "    executable_path = {\"executable_path\": \"chromedriver\"}\n",
    "    return Browser(\"chrome\", **executable_path, headless=True)"
   ]
  },
  {
   "cell_type": "code",
   "execution_count": 56,
   "metadata": {},
   "outputs": [],
   "source": [
    "def scrapeNews():\n",
    "    browser = init_browser()\n",
    "\n",
    "    nasa = \"https://mars.nasa.gov/news/\"\n",
    "    browser.visit(nasa)\n",
    "\n",
    "    html = browser.html\n",
    "    soup = BeautifulSoup(html, \"html.parser\")\n",
    "    \n",
    "    latest_news = soup.find(\"li\", class_=\"slide\")\n",
    "    \n",
    "    news_title = latest_news.find(\"div\", class_=\"content_title\").a.text\n",
    "    news_p = latest_news.find(\"div\", class_=\"article_teaser_body\").text\n",
    "    \n",
    "    return news_title, news_p"
   ]
  },
  {
   "cell_type": "code",
   "execution_count": 57,
   "metadata": {},
   "outputs": [],
   "source": [
    "def scrapeImage():\n",
    "    browser = init_browser()\n",
    "    \n",
    "    mars = \"https://www.jpl.nasa.gov/spaceimages/?search=&category=Mars\"    \n",
    "    browser.visit(mars)\n",
    "       \n",
    "    button = browser.find_by_id(\"full_image\")\n",
    "    button.click()\n",
    "    time.sleep(1)\n",
    "    \n",
    "    button = browser.find_by_text('more info     ')\n",
    "    button.click()\n",
    "    time.sleep(1)\n",
    "    \n",
    "    html = browser.html\n",
    "    soup = BeautifulSoup(html, \"html.parser\")    \n",
    "    \n",
    "    \n",
    "    featured_image_url = \"https://www.jpl.nasa.gov\" + soup.find(\"img\", class_=\"main_image\")['src']\n",
    "    \n",
    "    return featured_image_url"
   ]
  },
  {
   "cell_type": "code",
   "execution_count": 58,
   "metadata": {},
   "outputs": [],
   "source": [
    "def scrapeWeather():\n",
    "    browser = init_browser()\n",
    "    \n",
    "    twitter = \"https://twitter.com/marswxreport?lang=en\"\n",
    "    browser.visit(twitter)\n",
    "\n",
    "    html = browser.html\n",
    "    soup = BeautifulSoup(html, \"html.parser\")\n",
    "    \n",
    "    mars_weather = soup.find(\"p\", class_=\"tweet-text\").text\n",
    "    \n",
    "    return mars_weather"
   ]
  },
  {
   "cell_type": "code",
   "execution_count": 59,
   "metadata": {},
   "outputs": [],
   "source": [
    "def scrapeFact():       \n",
    "    url = \"http://space-facts.com/mars/\"\n",
    "    dfs = pd.read_html(url)     \n",
    "    \n",
    "    fact = dfs[0]\n",
    "    fact.columns = ['description', 'value']\n",
    "    \n",
    "    return fact"
   ]
  },
  {
   "cell_type": "code",
   "execution_count": null,
   "metadata": {},
   "outputs": [],
   "source": [
    "def scrapeHemispher():\n",
    "    browser = init_browser()\n",
    "    \n",
    "    hemi = \"https://astrogeology.usgs.gov/search/results?q=hemisphere+enhanced&k1=target&v1=Mars\"\n",
    "    browser.visit(hemi)\n",
    "\n",
    "    hemisphere_image_urls = [\n",
    "        {\"title\": \"Valles Marineris Hemisphere\", \"img_url\": \"...\"},\n",
    "        {\"title\": \"Cerberus Hemisphere\", \"img_url\": \"...\"},\n",
    "        {\"title\": \"Schiaparelli Hemisphere\", \"img_url\": \"...\"},\n",
    "        {\"title\": \"Syrtis Major Hemisphere\", \"img_url\": \"...\"},\n",
    "    ]\n",
    "    \n",
    "    for hemisphere in hemisphere_image_urls:\n",
    "        link = browser.find_by_text(hemisphere[\"title\"] + \" Enhanced\")\n",
    "        link.click()\n",
    "        time.sleep(1)\n",
    "                       \n",
    "        html = browser.html\n",
    "        soup = BeautifulSoup(html, \"html.parser\")\n",
    "        \n",
    "        hemisphere[\"img_url\"] = soup.find(\"div\", class_=\"downloads\").a['href']        \n",
    "        browser.visit(hemi)    \n",
    "    \n",
    "    return hemisphere_image_urls"
   ]
  },
  {
   "cell_type": "code",
   "execution_count": null,
   "metadata": {},
   "outputs": [],
   "source": [
    "scrapeNews()"
   ]
  },
  {
   "cell_type": "code",
   "execution_count": null,
   "metadata": {},
   "outputs": [],
   "source": [
    "scrapeImage()"
   ]
  },
  {
   "cell_type": "code",
   "execution_count": null,
   "metadata": {},
   "outputs": [],
   "source": [
    "scrapeWeather()"
   ]
  },
  {
   "cell_type": "code",
   "execution_count": null,
   "metadata": {
    "scrolled": true
   },
   "outputs": [],
   "source": [
    "scrapeFact()"
   ]
  },
  {
   "cell_type": "code",
   "execution_count": null,
   "metadata": {},
   "outputs": [],
   "source": [
    "scrapeHemispher()"
   ]
  },
  {
   "cell_type": "code",
   "execution_count": null,
   "metadata": {},
   "outputs": [],
   "source": []
  }
 ],
 "metadata": {
  "kernelspec": {
   "display_name": "Python 3",
   "language": "python",
   "name": "python3"
  },
  "language_info": {
   "codemirror_mode": {
    "name": "ipython",
    "version": 3
   },
   "file_extension": ".py",
   "mimetype": "text/x-python",
   "name": "python",
   "nbconvert_exporter": "python",
   "pygments_lexer": "ipython3",
   "version": "3.6.4"
  }
 },
 "nbformat": 4,
 "nbformat_minor": 2
}
