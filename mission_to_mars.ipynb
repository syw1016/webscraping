{
 "cells": [
  {
   "cell_type": "code",
   "execution_count": 1,
   "metadata": {},
   "outputs": [],
   "source": [
    "import time\n",
    "from splinter import Browser\n",
    "from bs4 import BeautifulSoup\n",
    "from selenium import webdriver"
   ]
  },
  {
   "cell_type": "code",
   "execution_count": 2,
   "metadata": {},
   "outputs": [],
   "source": [
    "def init_browser():    \n",
    "    executable_path = {\"executable_path\": \"chromedriver\"}\n",
    "    return Browser(\"chrome\", **executable_path, headless=False)"
   ]
  },
  {
   "cell_type": "code",
   "execution_count": 3,
   "metadata": {},
   "outputs": [],
   "source": [
    "def scrapeNews():\n",
    "    browser = init_browser()\n",
    "    \n",
    "    # visit unsplash.com\n",
    "    nasa = \"https://mars.nasa.gov/news/\"\n",
    "    browser.visit(nasa)\n",
    "\n",
    "    html = browser.html\n",
    "    soup = BeautifulSoup(html, \"html.parser\")\n",
    "    \n",
    "    latest_news = soup.find(\"li\", class_=\"slide\")\n",
    "    \n",
    "    news_title = latest_news.find(\"div\", class_=\"content_title\").a.text\n",
    "    news_p = latest_news.find(\"div\", class_=\"article_teaser_body\").text\n",
    "    \n",
    "    return news_title, news_p"
   ]
  },
  {
   "cell_type": "code",
   "execution_count": 16,
   "metadata": {},
   "outputs": [],
   "source": [
    "def scrapeImage():\n",
    "    browser = init_browser()\n",
    "    \n",
    "    mars = \"https://www.jpl.nasa.gov/spaceimages/?search=&category=Mars\"    \n",
    "    browser.visit(mars)\n",
    "    \n",
    "    html = browser.html\n",
    "    soup = BeautifulSoup(html, \"html.parser\")\n",
    "       \n",
    "    button = browser.find_by_id(\"full_image\")\n",
    "    button.click()\n",
    "    time.sleep(1)\n",
    "    \n",
    "    button = browser.find_by_text('more info     ')\n",
    "    button.click()\n",
    "    time.sleep(1)\n",
    "    \n",
    "    html = browser.html\n",
    "    soup = BeautifulSoup(html, \"html.parser\")    \n",
    "    \n",
    "    featured_image_url = soup.find(\"img\", class_=\"main_image\")['src']\n",
    "    \n",
    "    return featured_image_url"
   ]
  },
  {
   "cell_type": "code",
   "execution_count": null,
   "metadata": {},
   "outputs": [],
   "source": [
    "def build_report(surf_report):\n",
    "    final_report = \"\"\n",
    "    for p in surf_report:\n",
    "        final_report += \" \" + p.get_text()\n",
    "        print(final_report)\n",
    "    return final_report"
   ]
  },
  {
   "cell_type": "code",
   "execution_count": 12,
   "metadata": {},
   "outputs": [
    {
     "data": {
      "text/plain": [
       "('360 Video: Tour a Mars Robot Test Lab',\n",
       " \"Engineers are practicing operations for NASA's Mars InSight lander, which is launching this spring.\")"
      ]
     },
     "execution_count": 12,
     "metadata": {},
     "output_type": "execute_result"
    }
   ],
   "source": [
    "scrapeNews()"
   ]
  },
  {
   "cell_type": "code",
   "execution_count": 17,
   "metadata": {},
   "outputs": [
    {
     "data": {
      "text/plain": [
       "<img alt=\"The view was obtained during NASA's Cassini orbiter's flyby on July 24, 2012, also called the 'T85' flyby by the Cassini team. This was the most intense specular reflection that Cassini had seen to date.\" class=\"main_image\" src=\"/spaceimages/images/largesize/PIA18433_hires.jpg\" title=\"The view was obtained during NASA's Cassini orbiter's flyby on July 24, 2012, also called the 'T85' flyby by the Cassini team. This was the most intense specular reflection that Cassini had seen to date.\"/>"
      ]
     },
     "execution_count": 17,
     "metadata": {},
     "output_type": "execute_result"
    }
   ],
   "source": [
    "scrapeImage()"
   ]
  },
  {
   "cell_type": "code",
   "execution_count": null,
   "metadata": {},
   "outputs": [],
   "source": []
  }
 ],
 "metadata": {
  "kernelspec": {
   "display_name": "Python 3",
   "language": "python",
   "name": "python3"
  },
  "language_info": {
   "codemirror_mode": {
    "name": "ipython",
    "version": 3
   },
   "file_extension": ".py",
   "mimetype": "text/x-python",
   "name": "python",
   "nbconvert_exporter": "python",
   "pygments_lexer": "ipython3",
   "version": "3.6.4"
  }
 },
 "nbformat": 4,
 "nbformat_minor": 2
}
